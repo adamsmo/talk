!pip install ecdsa

from ecdsa import SigningKey
from ecdsa import VerifyingKey
from ecdsa.curves import SECP256k1
from ecdsa.numbertheory import inverse_mod
import hashlib
import binascii

n = SECP256k1.order

r1 = 103388573995635080359749164254216598308788835304023601477803095234286494993683
s1 = 3149132878732234681642130190221230058099051697653048471463634361909828920977
m1 = int(hashlib.sha1("4242424242:uuid".encode('utf-8')).hexdigest(), 16)

r2 = 103388573995635080359749164254216598308788835304023601477803095234286494993683
s2 = 32097155188061283537534876442302961026365698769731248779993427595387078724243
m2 = int(hashlib.sha1("4242424243:uuid".encode('utf-8')).hexdigest(), 16)

k = (((m1 - m2) % n) * inverse_mod(s1 - s2, n)) % n

private = ((((s1 * k) % n) - m1) * inverse_mod(r1, n)) % n

print(k)
print(private)